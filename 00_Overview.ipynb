{
 "cells": [
  {
   "cell_type": "markdown",
   "id": "3526e785",
   "metadata": {},
   "source": [
    "#### 코딩 테스트를 위한 사전지식\n",
    "\n",
    "기본적으로 코딩테스트는 입출력 모드로 테스트 케이스를 입력받는다.\n",
    "입출력 방식에는 두 가지가 존재한다.\n",
    "\n",
    "1. 입출력 모드\n",
    "2. 빠른 입출력 모드"
   ]
  },
  {
   "cell_type": "code",
   "execution_count": null,
   "id": "51f09fad",
   "metadata": {},
   "outputs": [],
   "source": [
    "# 일반적인 입출력 모드\n",
    "# Map 함수를 사용하여 두 개의 요소를 int 형으로 동시 변환\n",
    "a, b = map(int, input().split())"
   ]
  },
  {
   "cell_type": "code",
   "execution_count": null,
   "id": "464de0b6",
   "metadata": {},
   "outputs": [],
   "source": [
    "# 코딩 테스트를 진행하다보면 테스트 케이스의 수량이 많은 경우에 input() 함수를 계속 사용하면,\n",
    "# 속도가 느리기 때문에 빠른 입출력이 필요하다.\n",
    "# 기업형 코테에서는 readline() 을 쓸 정도의 문제를 내지는 않지만 참고.\n",
    "\n",
    "import sys\n",
    "\n",
    "n = sys.stdin.readline() # input() 과 같은 기능이지만 더 빠른 속도를 낼 수 있음."
   ]
  }
 ],
 "metadata": {
  "kernelspec": {
   "display_name": "Python 3 (ipykernel)",
   "language": "python",
   "name": "python3"
  },
  "language_info": {
   "codemirror_mode": {
    "name": "ipython",
    "version": 3
   },
   "file_extension": ".py",
   "mimetype": "text/x-python",
   "name": "python",
   "nbconvert_exporter": "python",
   "pygments_lexer": "ipython3",
   "version": "3.9.13"
  }
 },
 "nbformat": 4,
 "nbformat_minor": 5
}
