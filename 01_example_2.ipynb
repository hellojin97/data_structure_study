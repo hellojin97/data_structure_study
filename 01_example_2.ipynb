{
 "cells": [
  {
   "cell_type": "markdown",
   "id": "22533173",
   "metadata": {},
   "source": [
    "# 예제 풀어보기\n",
    "\n",
    "- 백준온라인 문제 기반으로 풀어보기"
   ]
  },
  {
   "cell_type": "markdown",
   "id": "68abbbb4",
   "metadata": {},
   "source": [
    "## 2164.카드2\n",
    "\n",
    "N장의 카드가 있다. 각각의 카드는 차례로 1부터 N까지의 번호가 붙어 있으며, 1번 카드가 제일 위에, N번 카드가 제일 아래인 상태로 순서대로 카드가 놓여 있다.\n",
    "\n",
    "이제 다음과 같은 동작을 카드가 한 장 남을 때까지 반복하게 된다. 우선, 제일 위에 있는 카드를 바닥에 버린다. 그 다음, 제일 위에 있는 카드를 제일 아래에 있는 카드 밑으로 옮긴다.\n",
    "\n",
    "예를 들어 N=4인 경우를 생각해 보자. 카드는 제일 위에서부터 1234 의 순서로 놓여있다. 1을 버리면 234가 남는다. 여기서 2를 제일 아래로 옮기면 342가 된다. 3을 버리면 42가 되고, 4를 밑으로 옮기면 24가 된다. 마지막으로 2를 버리고 나면, 남는 카드는 4가 된다.\n",
    "\n",
    "N이 주어졌을 때, 제일 마지막에 남게 되는 카드를 구하는 프로그램을 작성하시오.\n",
    "\n",
    "- 예상 : 큐\n",
    "- 정답 : 큐!\n",
    "\n",
    "### 시간복잡도\n",
    "\n",
    "- 배열 삽입/삭제 big-O(N) 이기에 성능 안좋음\n",
    "- 큐를 이용하여 문제 해결"
   ]
  },
  {
   "cell_type": "markdown",
   "id": "a219560f",
   "metadata": {},
   "source": [
    "- 입력\n",
    "\n",
    "```\n",
    "6\n",
    "```"
   ]
  },
  {
   "cell_type": "markdown",
   "id": "8bb5a911",
   "metadata": {},
   "source": [
    "- 출력\n",
    "\n",
    "```\n",
    "4\n",
    "```"
   ]
  },
  {
   "cell_type": "code",
   "execution_count": 15,
   "id": "c73dba86",
   "metadata": {},
   "outputs": [
    {
     "name": "stdout",
     "output_type": "stream",
     "text": [
      "500000\n",
      "475712\n"
     ]
    }
   ],
   "source": [
    "# deque 으로 문제 해결\n",
    "from collections import deque\n",
    "N = int(input())\n",
    "dq = deque(range(1, N+1))\n",
    "\n",
    "while len(dq) > 1:\n",
    "    dq.popleft()\n",
    "    dq.append(dq.popleft())\n",
    "    \n",
    "print(dq.popleft())"
   ]
  },
  {
   "cell_type": "code",
   "execution_count": 14,
   "id": "284b8951",
   "metadata": {},
   "outputs": [
    {
     "name": "stdout",
     "output_type": "stream",
     "text": [
      "500000\n"
     ]
    },
    {
     "ename": "KeyboardInterrupt",
     "evalue": "",
     "output_type": "error",
     "traceback": [
      "\u001b[0;31m---------------------------------------------------------------------------\u001b[0m",
      "\u001b[0;31mKeyboardInterrupt\u001b[0m                         Traceback (most recent call last)",
      "Cell \u001b[0;32mIn [14], line 7\u001b[0m\n\u001b[1;32m      5\u001b[0m \u001b[38;5;28;01mwhile\u001b[39;00m \u001b[38;5;28mlen\u001b[39m(arr) \u001b[38;5;241m>\u001b[39m \u001b[38;5;241m1\u001b[39m:\n\u001b[1;32m      6\u001b[0m     arr\u001b[38;5;241m.\u001b[39mpop(\u001b[38;5;241m0\u001b[39m)\n\u001b[0;32m----> 7\u001b[0m     arr\u001b[38;5;241m.\u001b[39mappend(arr\u001b[38;5;241m.\u001b[39mpop(\u001b[38;5;241m0\u001b[39m))\n\u001b[1;32m      9\u001b[0m \u001b[38;5;28mprint\u001b[39m(arr\u001b[38;5;241m.\u001b[39mpop())\n",
      "\u001b[0;31mKeyboardInterrupt\u001b[0m: "
     ]
    }
   ],
   "source": [
    "# list 로 문제 해결\n",
    "# 허나 시간 초과\n",
    "N = int(input())\n",
    "arr = [*range(1, N+1)] # unpacking\n",
    "while len(arr) > 1:\n",
    "    arr.pop(0)\n",
    "    arr.append(arr.pop(0))\n",
    "\n",
    "print(arr.pop())"
   ]
  },
  {
   "cell_type": "markdown",
   "id": "18732fe1",
   "metadata": {},
   "source": [
    "## 1158. 요세푸스\n",
    "요세푸스 문제는 다음과 같다.\n",
    "\n",
    "1번부터 N번까지 N명의 사람이 원을 이루면서 앉아있고, 양의 정수 K(≤ N)가 주어진다. 이제 순서대로 K번째 사람을 제거한다. 한 사람이 제거되면 남은 사람들로 이루어진 원을 따라 이 과정을 계속해 나간다. 이 과정은 N명의 사람이 모두 제거될 때까지 계속된다. 원에서 사람들이 제거되는 순서를 (N, K)-요세푸스 순열이라고 한다. 예를 들어 (7, 3)-요세푸스 순열은 <3, 6, 2, 7, 5, 1, 4>이다.\n",
    "\n",
    "N과 K가 주어지면 (N, K)-요세푸스 순열을 구하는 프로그램을 작성하시오."
   ]
  },
  {
   "cell_type": "markdown",
   "id": "87f3ba9c",
   "metadata": {},
   "source": [
    "- 입력\n",
    "\n",
    "```\n",
    "7 3\n",
    "```\n",
    "\n",
    "- 출력\n",
    "\n",
    "```\n",
    "<3, 6, 2, 7, 5, 1, 4>\n",
    "```"
   ]
  },
  {
   "cell_type": "code",
   "execution_count": 29,
   "id": "9bedd4e8",
   "metadata": {},
   "outputs": [
    {
     "name": "stdout",
     "output_type": "stream",
     "text": [
      "7 3\n",
      "deque(<3, 6, 2, 7, 5, 1, 4>)\n"
     ]
    }
   ],
   "source": [
    "from collections import deque\n",
    "\n",
    "N, K = map(int, input().split())\n",
    "\n",
    "P = deque(range(1, N+1))\n",
    "\n",
    "new_P = deque()\n",
    "while P:\n",
    "    for _ in range(1, K):\n",
    "        P.append(P.popleft())\n",
    "        \n",
    "    new_P.append(P.popleft())\n",
    "\n",
    "print(str(list(new_P)).replace('[', '<').replace(']', '>'))"
   ]
  },
  {
   "cell_type": "code",
   "execution_count": 36,
   "id": "6360cc4d",
   "metadata": {},
   "outputs": [
    {
     "data": {
      "text/plain": [
       "1"
      ]
     },
     "execution_count": 36,
     "metadata": {},
     "output_type": "execute_result"
    }
   ],
   "source": [
    "arr = [*range(1, 11)]\n",
    "arr[0]"
   ]
  }
 ],
 "metadata": {
  "kernelspec": {
   "display_name": "Python 3 (ipykernel)",
   "language": "python",
   "name": "python3"
  },
  "language_info": {
   "codemirror_mode": {
    "name": "ipython",
    "version": 3
   },
   "file_extension": ".py",
   "mimetype": "text/x-python",
   "name": "python",
   "nbconvert_exporter": "python",
   "pygments_lexer": "ipython3",
   "version": "3.9.13"
  }
 },
 "nbformat": 4,
 "nbformat_minor": 5
}
