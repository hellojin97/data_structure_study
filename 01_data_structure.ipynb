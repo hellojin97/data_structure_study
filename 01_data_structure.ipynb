{
 "cells": [
  {
   "cell_type": "markdown",
   "id": "23313de4",
   "metadata": {},
   "source": [
    "# 자료구조"
   ]
  },
  {
   "cell_type": "markdown",
   "id": "16671817",
   "metadata": {},
   "source": [
    "## 1. 배열\n",
    "\n",
    "    - Python 에서는 list() 형태로 구현하고 타입도 요소 별로 각각 다르게 구현 가능\n",
    "    - 탐색이 더 빠르고 삽입/삭제가 느림.\n",
    "    "
   ]
  },
  {
   "cell_type": "markdown",
   "id": "9a5e561a",
   "metadata": {},
   "source": [
    "### 배열은 탐색이 빠르다."
   ]
  },
  {
   "cell_type": "code",
   "execution_count": null,
   "id": "ac205656",
   "metadata": {},
   "outputs": [],
   "source": [
    "arr = [1, 10, 5, 4, 22, 25] # 임의의 배열 arr 에서 우리는 2번 인덱스의 값인 5 를 가져오려고 한다.\n",
    "\n",
    "# 이 때, 우리가 표현하는 arr[2] 는 arr 의 첫번째 주소값 + 2 * 4byte 를 순간적으로 계산해서 한 번에 2번의 메모리 주소를 이동한다.\n",
    "arr[2] \n",
    "\n",
    "# 정리\n",
    "# arr[2] = Pointer in arr[0] + 2 * 4byte(int type) -> 시간 복잡도 관점으로 big-O(1)\n",
    "# 이것을 random access, 임의접근."
   ]
  },
  {
   "cell_type": "markdown",
   "id": "edb3da07",
   "metadata": {},
   "source": [
    "### 배열은 삽입/삭제가 느리다."
   ]
  },
  {
   "cell_type": "code",
   "execution_count": null,
   "id": "48c70795",
   "metadata": {},
   "outputs": [],
   "source": [
    "# arr 의 index 2 위치에 6을 삽입하고 싶다면 \n",
    "arr[2] = 6\n",
    "# 이라고 간단하게 쓰면 되지만 자료구조에서는 arr[2] = 6 을 처리하기 위해서 index 2번 ~ 끝 까지 모두 하나씩 밀어줘야한다.\n",
    "# 만약 첫 번째 인덱스에 값을 넣게되면 모든 요소를 모두 뒤로 밀어내야 한다.\n",
    "\n",
    "# 이것은 어느 위치에 하느냐에 따라 밀어내는 요소가 n 개이기 때문에\n",
    "# 시간복잡도는 big - o(n) 이다."
   ]
  },
  {
   "cell_type": "code",
   "execution_count": null,
   "id": "c52bbed6",
   "metadata": {},
   "outputs": [],
   "source": [
    "# arr 의 index 1 의 요소를 삭제하고 싶다면\n",
    "# 삽입과 반대로 이번엔 뒤에 요소를 당겨와야 하는데\n",
    "# 이는 어느 위치에 따라 당기는 수량이 달라지기에 삽입과 똑같이\n",
    "# 시간복잡도는 big - o(n) 이다."
   ]
  },
  {
   "cell_type": "markdown",
   "id": "f5036b64",
   "metadata": {},
   "source": [
    "---"
   ]
  },
  {
   "cell_type": "markdown",
   "id": "fd3bd983",
   "metadata": {},
   "source": [
    "## 2. 벡터\n",
    "    - 동적 배열의 느낌. c++ 코테로 정말 많이 사용함.\n",
    "    - size 변경가능한 점에 대해서도 마찬가지로 python 에서는 배열과 동일하다."
   ]
  },
  {
   "cell_type": "code",
   "execution_count": 3,
   "id": "32c76efc",
   "metadata": {},
   "outputs": [
    {
     "name": "stdout",
     "output_type": "stream",
     "text": [
      "size : 2\n",
      "(112, 146)\n",
      "(897, 987)\n"
     ]
    }
   ],
   "source": [
    "vector_v = []\n",
    "\n",
    "vector_v.append((112, 146)) # tuple 로 사용해봄.\n",
    "vector_v.append((897, 987))\n",
    "\n",
    "print(f\"size : {len(vector_v)}\")\n",
    "\n",
    "for p in vector_v:\n",
    "    print(p)"
   ]
  },
  {
   "cell_type": "markdown",
   "id": "91aa7c27",
   "metadata": {},
   "source": [
    "## 3. 연결 리스트\n",
    "    \n",
    "    - 삽입 / 삭제 O(1)\n",
    "    - 탐색 O(n)\n",
    "    - PS 에서는 많이 안쓰이지만 다른 구조들을 구현할 때 많이 쓰임. (배열과 특성이 반대되는 성격임.)\n",
    "    \n",
    "참고   \n",
    "- [배열과 연결리스트의 장단점](https://bluejake.tistory.com/44)  \n",
    "- [나무위키- 연결리스트 분석 부분 참고](https://namu.wiki/w/%EC%97%B0%EA%B2%B0%20%EB%A6%AC%EC%8A%A4%ED%8A%B8#s-4)\n",
    "- [python 에서 연결리스트 구현](https://hudi.blog/ds-linked-list/)"
   ]
  }
 ],
 "metadata": {
  "kernelspec": {
   "display_name": "Python 3 (ipykernel)",
   "language": "python",
   "name": "python3"
  },
  "language_info": {
   "codemirror_mode": {
    "name": "ipython",
    "version": 3
   },
   "file_extension": ".py",
   "mimetype": "text/x-python",
   "name": "python",
   "nbconvert_exporter": "python",
   "pygments_lexer": "ipython3",
   "version": "3.9.13"
  }
 },
 "nbformat": 4,
 "nbformat_minor": 5
}
