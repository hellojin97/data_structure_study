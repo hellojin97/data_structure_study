{
 "cells": [
  {
   "cell_type": "markdown",
   "id": "23313de4",
   "metadata": {},
   "source": [
    "# 자료구조"
   ]
  },
  {
   "cell_type": "markdown",
   "id": "16671817",
   "metadata": {},
   "source": [
    "## 1. 배열\n",
    "\n",
    "    - Python 에서는 list() 형태로 구현하고 타입도 요소 별로 각각 다르게 구현 가능\n",
    "    - 탐색이 더 빠르고 삽입/삭제가 느림.\n",
    "    "
   ]
  },
  {
   "cell_type": "markdown",
   "id": "9a5e561a",
   "metadata": {},
   "source": [
    "### 배열은 탐색이 빠르다."
   ]
  },
  {
   "cell_type": "code",
   "execution_count": 1,
   "id": "ac205656",
   "metadata": {},
   "outputs": [
    {
     "data": {
      "text/plain": [
       "5"
      ]
     },
     "execution_count": 1,
     "metadata": {},
     "output_type": "execute_result"
    }
   ],
   "source": [
    "arr = [1, 10, 5, 4, 22, 25] # 임의의 배열 arr 에서 우리는 2번 인덱스의 값인 5 를 가져오려고 한다.\n",
    "\n",
    "# 이 때, 우리가 표현하는 arr[2] 는 arr 의 첫번째 주소값 + 2 * 4byte 를 순간적으로 계산해서 한 번에 2번의 메모리 주소를 이동한다.\n",
    "arr[2] \n",
    "\n",
    "# 정리\n",
    "# arr[2] = Pointer in arr[0] + 2 * 4byte(int type) -> 시간 복잡도 관점으로 big-O(1)\n",
    "# 이것을 random access, 임의접근."
   ]
  },
  {
   "cell_type": "markdown",
   "id": "edb3da07",
   "metadata": {},
   "source": [
    "### 배열은 삽입/삭제가 느리다."
   ]
  },
  {
   "cell_type": "code",
   "execution_count": 2,
   "id": "48c70795",
   "metadata": {},
   "outputs": [],
   "source": [
    "# arr 의 index 2 위치에 6을 삽입하고 싶다면 \n",
    "arr[2] = 6\n",
    "# 이라고 간단하게 쓰면 되지만 자료구조에서는 arr[2] = 6 을 처리하기 위해서 index 2번 ~ 끝 까지 모두 하나씩 밀어줘야한다.\n",
    "# 만약 첫 번째 인덱스에 값을 넣게되면 모든 요소를 모두 뒤로 밀어내야 한다.\n",
    "\n",
    "# 이것은 어느 위치에 하느냐에 따라 밀어내는 요소가 n 개이기 때문에\n",
    "# 시간복잡도는 big - o(n) 이다."
   ]
  },
  {
   "cell_type": "code",
   "execution_count": null,
   "id": "c52bbed6",
   "metadata": {},
   "outputs": [],
   "source": [
    "# arr 의 index 1 의 요소를 삭제하고 싶다면\n",
    "# 삽입과 반대로 이번엔 뒤에 요소를 당겨와야 하는데\n",
    "# 이는 어느 위치에 따라 당기는 수량이 달라지기에 삽입과 똑같이\n",
    "# 시간복잡도는 big - o(n) 이다."
   ]
  },
  {
   "cell_type": "markdown",
   "id": "f5036b64",
   "metadata": {},
   "source": [
    "---"
   ]
  },
  {
   "cell_type": "markdown",
   "id": "fd3bd983",
   "metadata": {},
   "source": [
    "## 2. 벡터\n",
    "    - 동적 배열의 느낌. c++ 코테로 정말 많이 사용함.\n",
    "    - size 변경가능한 점에 대해서도 마찬가지로 python 에서는 배열과 동일하다."
   ]
  },
  {
   "cell_type": "code",
   "execution_count": 3,
   "id": "32c76efc",
   "metadata": {},
   "outputs": [
    {
     "name": "stdout",
     "output_type": "stream",
     "text": [
      "size : 2\n",
      "(112, 146)\n",
      "(897, 987)\n"
     ]
    }
   ],
   "source": [
    "vector_v = []\n",
    "\n",
    "vector_v.append((112, 146)) # tuple 로 사용해봄.\n",
    "vector_v.append((897, 987))\n",
    "\n",
    "print(f\"size : {len(vector_v)}\")\n",
    "\n",
    "for p in vector_v:\n",
    "    print(p)"
   ]
  },
  {
   "cell_type": "markdown",
   "id": "91aa7c27",
   "metadata": {},
   "source": [
    "## 3. 연결 리스트\n",
    "    \n",
    "    - 삽입 / 삭제 O(1)\n",
    "    - 탐색 O(n)\n",
    "    - PS 에서는 많이 안쓰이지만 다른 구조들을 구현할 때 많이 쓰임. (배열과 특성이 반대되는 성격임.)\n",
    "    \n",
    "참고   \n",
    "- [배열과 연결리스트의 장단점](https://bluejake.tistory.com/44)  \n",
    "- [나무위키- 연결리스트 분석 부분 참고](https://namu.wiki/w/%EC%97%B0%EA%B2%B0%20%EB%A6%AC%EC%8A%A4%ED%8A%B8#s-4)\n",
    "- [python 에서 연결리스트 구현](https://hudi.blog/ds-linked-list/)"
   ]
  },
  {
   "cell_type": "markdown",
   "id": "1f6239ec",
   "metadata": {},
   "source": [
    "## 4. 스택\n",
    "    - 삽입 / 삭제 O(1)\n",
    "    - FILO (First IN Last OUT) 선입후출 방식을 가지고 있음. <-> 후입선출 이라는 말도 적용됨.\n",
    "    - Pyhton 에서는 stack 이라는 자료구조는 없음. 그냥 list() 사용\n",
    "    - 사용사례\n",
    "        - 인터넷 브라우저를 통해 웹서핑 후 뒤로가기"
   ]
  },
  {
   "cell_type": "code",
   "execution_count": 4,
   "id": "1936888f",
   "metadata": {},
   "outputs": [
    {
     "name": "stdout",
     "output_type": "stream",
     "text": [
      "789\n",
      "456\n",
      "123\n"
     ]
    }
   ],
   "source": [
    "stack_list = []\n",
    "stack_list.append(123)\n",
    "stack_list.append(456)\n",
    "stack_list.append(789)\n",
    "\n",
    "while len(stack_list) > 0:\n",
    "    print(stack_list[-1]) # Stack 의 top 에 해당하는 value\n",
    "    stack_list.pop(-1) # First IN Last OUT"
   ]
  },
  {
   "cell_type": "markdown",
   "id": "c8587e36",
   "metadata": {},
   "source": [
    "## 5. 큐\n",
    "\n",
    "    - 삽입 / 삭제 O(1)\n",
    "    - FIFO (First IN FIRST OUT) 선입선출 방식을 가지고 있음.\n",
    "    - 시간복잡도가 Big-O 의 1인데 자칫하다가 배열과 같은 개념으로 오해할 수 있음. front 와 end 의 index 값을 인식하고 가져오는 것이 주목적"
   ]
  },
  {
   "cell_type": "code",
   "execution_count": 5,
   "id": "6a49874e",
   "metadata": {},
   "outputs": [
    {
     "name": "stdout",
     "output_type": "stream",
     "text": [
      "size -> 3\n",
      "123\n",
      "456\n",
      "789\n"
     ]
    }
   ],
   "source": [
    "from collections import deque # 덱\n",
    "# deque 은 queue 의 상위호환\n",
    "# deque 은 양방향으로 값을 추출할 수 있음.\n",
    "# double-ended-queue\n",
    "queue_list = deque()\n",
    "queue_list.append(123)\n",
    "queue_list.append(456)\n",
    "queue_list.append(789)\n",
    "\n",
    "print(f\"size -> {len(queue_list)}\")\n",
    "while len(queue_list) > 0:\n",
    "    print(queue_list.popleft())\n",
    "    # print(queue_list.pop())"
   ]
  },
  {
   "cell_type": "code",
   "execution_count": 6,
   "id": "fe78b1dd",
   "metadata": {},
   "outputs": [
    {
     "name": "stdout",
     "output_type": "stream",
     "text": [
      "123\n",
      "456\n",
      "789\n"
     ]
    }
   ],
   "source": [
    "from queue import Queue # 큐 모듈\n",
    "# multi-thread 를 고려한 thread-safe 한 기능이 포함되어 있기에 성능이 느림.\n",
    "# 알고리즘 테스트를 할 때는 multi-thread 를 고려하지 않기에 deque 을 사용하여 queue 를 구현함.\n",
    "queue_list = Queue()\n",
    "queue_list.put(123)\n",
    "queue_list.put(456)\n",
    "queue_list.put(789)\n",
    "\n",
    "while queue_list.qsize() > 0:\n",
    "    print(queue_list.get())"
   ]
  },
  {
   "cell_type": "markdown",
   "id": "024e11e2",
   "metadata": {},
   "source": [
    "## 6. 우선순위 큐 (Heap)\n",
    "\n",
    "    - 2진트리 최상단 요소를 root node : node 중 가장 큰값을 root node 로 지정, max heap\n",
    "    - python 에서는 min-heap 을 root node 로 제공해줌.\n",
    "    - 시간 복잡도 big-O 의 logN"
   ]
  },
  {
   "cell_type": "code",
   "execution_count": 7,
   "id": "e9896524",
   "metadata": {},
   "outputs": [
    {
     "name": "stdout",
     "output_type": "stream",
     "text": [
      "-5\n",
      "1\n",
      "3\n",
      "6\n",
      "10\n"
     ]
    }
   ],
   "source": [
    "from queue import PriorityQueue\n",
    "# thread-safe 기능이 있기에 성능이 느림\n",
    "pq = PriorityQueue()\n",
    "pq.put(6)\n",
    "pq.put(10)\n",
    "pq.put(-5)\n",
    "pq.put(3)\n",
    "pq.put(1)\n",
    "# min-heap 으로 우선 처리\n",
    "while not pq.empty():\n",
    "    print(pq.get()) # pop"
   ]
  },
  {
   "cell_type": "code",
   "execution_count": 8,
   "id": "63edd382",
   "metadata": {},
   "outputs": [
    {
     "name": "stdout",
     "output_type": "stream",
     "text": [
      "-12\n",
      "-5\n",
      "1\n",
      "3\n",
      "6\n",
      "10\n"
     ]
    }
   ],
   "source": [
    "import heapq\n",
    "\n",
    "heapq_list = []\n",
    "heapq.heappush(heapq_list, 6)\n",
    "heapq.heappush(heapq_list, -5)\n",
    "heapq.heappush(heapq_list, 10)\n",
    "heapq.heappush(heapq_list, 3)\n",
    "heapq.heappush(heapq_list, 1)\n",
    "heapq.heappush(heapq_list, -12)\n",
    "\n",
    "# min-heap 으로 우선 처리\n",
    "while heapq_list:\n",
    "    print(heapq_list[0])\n",
    "    heapq.heappop(heapq_list)"
   ]
  },
  {
   "cell_type": "markdown",
   "id": "f016a6b1",
   "metadata": {},
   "source": [
    "## 7. 맵 (Dictionary)\n",
    "    - key, value 형태 -> json 구조\n",
    "    - 삽입 삭제 python 에서는 big-O(1)\n",
    "    - c++ 에서는 map 이 red-black tree 구조이기에 big-O(logN), python 은 hash 구성"
   ]
  },
  {
   "cell_type": "code",
   "execution_count": 9,
   "id": "49b1e5df",
   "metadata": {},
   "outputs": [
    {
     "name": "stdout",
     "output_type": "stream",
     "text": [
      "hello 30\n",
      "world 40\n",
      "everyone 50\n"
     ]
    }
   ],
   "source": [
    "map_dict = {}\n",
    "map_dict[\"hello\"] = 30\n",
    "map_dict[\"world\"] = 40\n",
    "map_dict[\"everyone\"] = 50\n",
    "\n",
    "for key in map_dict:\n",
    "    print(key, map_dict[key])"
   ]
  },
  {
   "cell_type": "markdown",
   "id": "77a8ac4c",
   "metadata": {},
   "source": [
    "## 8. 집합 (Set)\n",
    " \n",
    "    - hash 기반 big-O(1) : python(c++ big-O(logN))\n",
    "    "
   ]
  },
  {
   "cell_type": "code",
   "execution_count": 12,
   "id": "99e10648",
   "metadata": {},
   "outputs": [
    {
     "name": "stdout",
     "output_type": "stream",
     "text": [
      "{40, 10, 50, 20, 30}\n",
      "{10, 50, 20, 30}\n"
     ]
    }
   ],
   "source": [
    "set_v = set()\n",
    "set_v.add(10)\n",
    "set_v.add(50)\n",
    "set_v.add(20)\n",
    "set_v.add(30)\n",
    "set_v.add(40)\n",
    "set_v.add(10)\n",
    "\n",
    "# 중복을 허용하지 않음.\n",
    "print(set_v)\n",
    "\n",
    "# set_variable.pop() 기능이 있으나 random 값을 추출해주기에 remove(value) 를 사용\n",
    "set_v.remove(40)\n",
    "print(set_v)"
   ]
  }
 ],
 "metadata": {
  "kernelspec": {
   "display_name": "Python 3 (ipykernel)",
   "language": "python",
   "name": "python3"
  },
  "language_info": {
   "codemirror_mode": {
    "name": "ipython",
    "version": 3
   },
   "file_extension": ".py",
   "mimetype": "text/x-python",
   "name": "python",
   "nbconvert_exporter": "python",
   "pygments_lexer": "ipython3",
   "version": "3.9.13"
  }
 },
 "nbformat": 4,
 "nbformat_minor": 5
}
