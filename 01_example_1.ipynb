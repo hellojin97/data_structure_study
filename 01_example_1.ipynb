{
 "cells": [
  {
   "cell_type": "markdown",
   "id": "0b0b6c6a",
   "metadata": {},
   "source": [
    "# 예제 풀어보기\n",
    "\n",
    "- 백준온라인 문제 기반으로 풀어보기"
   ]
  },
  {
   "cell_type": "markdown",
   "id": "8533117e",
   "metadata": {},
   "source": [
    "## 9012. 괄호\n",
    "\n",
    "괄호 문자열(Parenthesis String, PS)은 두 개의 괄호 기호인 ‘(’ 와 ‘)’ 만으로 구성되어 있는 문자열이다. 그 중에서 괄호의 모양이 바르게 구성된 문자열을 올바른 괄호 문자열(Valid PS, VPS)이라고 부른다. 한 쌍의 괄호 기호로 된 “( )” 문자열은 기본 VPS 이라고 부른다. 만일 x 가 VPS 라면 이것을 하나의 괄호에 넣은 새로운 문자열 “(x)”도 VPS 가 된다. 그리고 두 VPS x 와 y를 접합(concatenation)시킨 새로운 문자열 xy도 VPS 가 된다. 예를 들어 “(())()”와 “((()))” 는 VPS 이지만 “(()(”, “(())()))” , 그리고 “(()” 는 모두 VPS 가 아닌 문자열이다. \n",
    "\n",
    "여러분은 입력으로 주어진 괄호 문자열이 VPS 인지 아닌지를 판단해서 그 결과를 YES 와 NO 로 나타내어야 한다. "
   ]
  },
  {
   "cell_type": "markdown",
   "id": "1738af3b",
   "metadata": {},
   "source": [
    "- 입력\n",
    "```\n",
    "6\n",
    "(())())\n",
    "(((()())()\n",
    "(()())((()))\n",
    "((()()(()))(((())))()\n",
    "()()()()(()()())()\n",
    "(()((())()(\n",
    "```"
   ]
  },
  {
   "cell_type": "markdown",
   "id": "b1c0e368",
   "metadata": {},
   "source": [
    "- 출력\n",
    "```\n",
    "NO\n",
    "NO\n",
    "YES\n",
    "NO\n",
    "YES\n",
    "NO\n",
    "```"
   ]
  },
  {
   "cell_type": "markdown",
   "id": "ad888a8b",
   "metadata": {},
   "source": [
    "### 문제파악\n",
    "\n",
    "- vps 는 () 로 이루어져있음 + ()(()) 이것도 가능 쌍을 이루어야함\n",
    "- stack 을 통하여 문제를 해결할 수 있음."
   ]
  },
  {
   "cell_type": "code",
   "execution_count": 8,
   "id": "3bd09aa8",
   "metadata": {},
   "outputs": [
    {
     "name": "stdout",
     "output_type": "stream",
     "text": [
      "6\n",
      "(())())\n",
      "NO\n",
      "(((()())()\n",
      "NO\n",
      "(()())((()))\n",
      "YES\n",
      "((()()(()))(((())))()\n",
      "NO\n",
      "()()()()(()()())()\n",
      "YES\n",
      "(()((())()(\n",
      "NO\n"
     ]
    }
   ],
   "source": [
    "for _ in range(int(input())):\n",
    "    stk = [] # stack 은 배열로 구현\n",
    "    isVPS = True\n",
    "    for ch in input():\n",
    "        if ch == \"(\":\n",
    "            stk.append(ch)\n",
    "        else:\n",
    "            if stk: # 만약 ) 를 넣었을때 배열 길이가 1이상이라면 pop()\n",
    "                stk.pop()\n",
    "            else: # 없다면 \n",
    "                isVPS = False\n",
    "                break\n",
    "            \n",
    "    if stk:\n",
    "        isVPS = False\n",
    "        \n",
    "    print(\"YES\" if isVPS else \"NO\")"
   ]
  }
 ],
 "metadata": {
  "kernelspec": {
   "display_name": "Python 3 (ipykernel)",
   "language": "python",
   "name": "python3"
  },
  "language_info": {
   "codemirror_mode": {
    "name": "ipython",
    "version": 3
   },
   "file_extension": ".py",
   "mimetype": "text/x-python",
   "name": "python",
   "nbconvert_exporter": "python",
   "pygments_lexer": "ipython3",
   "version": "3.9.13"
  }
 },
 "nbformat": 4,
 "nbformat_minor": 5
}
